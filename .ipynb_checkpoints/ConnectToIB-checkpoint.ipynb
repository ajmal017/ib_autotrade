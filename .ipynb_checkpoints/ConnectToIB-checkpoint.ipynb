{
 "cells": [
  {
   "cell_type": "code",
   "execution_count": null,
   "metadata": {},
   "outputs": [],
   "source": [
    "from ibapi.client import EClient\n",
    "from ibapi.wrapper import EWrapper  \n",
    "\n",
    "class IBapi(EWrapper, EClient):\n",
    "     def __init__(self):\n",
    "         EClient.__init__(self, self) \n",
    "\n",
    "app = IBapi()\n",
    "app.connect('127.0.0.1', 4002, 123)\n",
    "app.run()\n",
    "\n",
    "'''\n",
    "#Uncomment this section if unable to connect\n",
    "#and to prevent errors on a reconnect\n",
    "import time\n",
    "time.sleep(2)\n",
    "app.disconnect()\n",
    "'''"
   ]
  },
  {
   "cell_type": "code",
   "execution_count": 1,
   "metadata": {},
   "outputs": [
    {
     "name": "stderr",
     "output_type": "stream",
     "text": [
      "ERROR -1 2104 Market data farm connection is OK:usfarm\n",
      "ERROR -1 2158 Sec-def data farm connection is OK:secdefhk\n",
      "ERROR 1 10167 Requested market data is not subscribed. Displaying delayed market data.\n"
     ]
    },
    {
     "name": "stdout",
     "output_type": "stream",
     "text": [
      "The current ask price is:  -1.0\n",
      "The current ask price is:  135.47\n"
     ]
    },
    {
     "name": "stderr",
     "output_type": "stream",
     "text": [
      "unhandled exception in EReader thread\n",
      "Traceback (most recent call last):\n",
      "  File \"/home/ymlai/anaconda3/envs/ibenv/lib/python3.7/site-packages/ibapi/reader.py\", line 34, in run\n",
      "    data = self.conn.recvMsg()\n",
      "  File \"/home/ymlai/anaconda3/envs/ibenv/lib/python3.7/site-packages/ibapi/connection.py\", line 99, in recvMsg\n",
      "    buf = self._recvAllMsg()\n",
      "  File \"/home/ymlai/anaconda3/envs/ibenv/lib/python3.7/site-packages/ibapi/connection.py\", line 119, in _recvAllMsg\n",
      "    buf = self.socket.recv(4096)\n",
      "OSError: [Errno 9] Bad file descriptor\n"
     ]
    }
   ],
   "source": [
    "from ibapi.client import EClient\n",
    "from ibapi.wrapper import EWrapper\n",
    "from ibapi.contract import Contract\n",
    "\n",
    "import threading\n",
    "import time\n",
    "\n",
    "\n",
    "class IBapi(EWrapper, EClient):\n",
    "\tdef __init__(self):\n",
    "\t\tEClient.__init__(self, self)\n",
    "\tdef tickPrice(self, reqId, tickType, price, attrib):\n",
    "        # real time ask = 2 delay ask = 67  https://interactivebrokers.github.io/tws-api/tick_types.html\n",
    "\t\tif tickType == 67 and reqId == 1:\n",
    "\t\t\tprint('The current ask price is: ', price)\n",
    "\n",
    "def run_loop():\n",
    "\tapp.run()\n",
    "\n",
    "app = IBapi()\n",
    "app.connect('127.0.0.1', 4002, 123)\n",
    "\n",
    "#Start the socket in a thread\n",
    "api_thread = threading.Thread(target=run_loop, daemon=True)\n",
    "api_thread.start()\n",
    "\n",
    "time.sleep(1) #Sleep interval to allow time for connection to server\n",
    "\n",
    "#Create contract object\n",
    "apple_contract = Contract()\n",
    "apple_contract.symbol = 'AAPL'\n",
    "apple_contract.secType = 'STK'\n",
    "apple_contract.exchange = 'SMART'\n",
    "apple_contract.currency = 'USD'\n",
    "\n",
    "#Request Market Data\n",
    "\n",
    "app.reqMarketDataType(4)\n",
    "app.reqMktData(1, apple_contract, '', False, False, [])\n",
    "\n",
    "time.sleep(10) #Sleep interval to allow time for incoming price data\n",
    "app.disconnect()"
   ]
  },
  {
   "cell_type": "code",
   "execution_count": null,
   "metadata": {},
   "outputs": [],
   "source": []
  }
 ],
 "metadata": {
  "kernelspec": {
   "display_name": "IB Env",
   "language": "python",
   "name": "ibenv"
  },
  "language_info": {
   "codemirror_mode": {
    "name": "ipython",
    "version": 3
   },
   "file_extension": ".py",
   "mimetype": "text/x-python",
   "name": "python",
   "nbconvert_exporter": "python",
   "pygments_lexer": "ipython3",
   "version": "3.7.9"
  }
 },
 "nbformat": 4,
 "nbformat_minor": 4
}
